{
 "cells": [
  {
   "cell_type": "code",
   "execution_count": null,
   "id": "c035cc26",
   "metadata": {},
   "outputs": [],
   "source": [
    "f(x) = -12x^4*sin(cos(x)) - 18x^3+5x^2 + 10x - 30\n",
    "Определить корни\n",
    "\n",
    "Найти интервалы, на которых функция возрастает\n",
    "\n",
    "Найти интервалы, на которых функция убывает\n",
    "\n",
    "Построить график\n",
    "\n",
    "Вычислить вершину  - производная функции\n",
    "\n",
    "Определить промежутки, на котором f > 0\n",
    "\n",
    "Определить промежутки, на котором f < 0"
   ]
  },
  {
   "cell_type": "code",
   "execution_count": null,
   "id": "7c8320bc",
   "metadata": {},
   "outputs": [],
   "source": [
    "import sympy *"
   ]
  },
  {
   "cell_type": "code",
   "execution_count": null,
   "id": "0530a97a",
   "metadata": {},
   "outputs": [],
   "source": [
    "Определить корни"
   ]
  },
  {
   "cell_type": "code",
   "execution_count": null,
   "id": "c32f1974",
   "metadata": {},
   "outputs": [],
   "source": [
    "import sympy\n",
    "x=sympy.symbols('x')\n",
    "ans = sympy.solve(-12*x**4*sympy.sin(sympy.cos(x)) - 18*x**3+5*x**2 + 10*x - 30)\n",
    "ans"
   ]
  },
  {
   "cell_type": "code",
   "execution_count": 12,
   "id": "9db73aa4",
   "metadata": {},
   "outputs": [
    {
     "name": "stdout",
     "output_type": "stream",
     "text": [
      "-1.33896663927711\n"
     ]
    }
   ],
   "source": [
    "import sympy as sp\n",
    "\n",
    "x = sp.symbols('x')\n",
    "f = -12*x**4*sp.sin(sp.cos(x)) - 18*x**3+5*x**2 + 10*x - 30\n",
    "\n",
    "# Задаем начальное приближение\n",
    "x_init = 0\n",
    "\n",
    "root = sp.nsolve(f, x, x_init)\n",
    "\n",
    "print(root)"
   ]
  },
  {
   "cell_type": "code",
   "execution_count": 14,
   "id": "b52f9574",
   "metadata": {},
   "outputs": [
    {
     "name": "stdout",
     "output_type": "stream",
     "text": [
      "10.8606499895942\n"
     ]
    }
   ],
   "source": [
    "import sympy as sp\n",
    "\n",
    "x = sp.symbols('x')\n",
    "f = -12*x**4*sp.sin(sp.cos(x)) - 18*x**3+5*x**2 + 10*x - 30\n",
    "\n",
    "# Задаем начальное приближение\n",
    "x_init = 10\n",
    "\n",
    "root = sp.nsolve(f, x, x_init)\n",
    "\n",
    "print(root)"
   ]
  },
  {
   "cell_type": "code",
   "execution_count": 16,
   "id": "1de976d6",
   "metadata": {},
   "outputs": [
    {
     "name": "stdout",
     "output_type": "stream",
     "text": [
      "-5.02686592820621\n"
     ]
    }
   ],
   "source": [
    "import sympy as sp\n",
    "\n",
    "x = sp.symbols('x')\n",
    "f = -12*x**4*sp.sin(sp.cos(x)) - 18*x**3+5*x**2 + 10*x - 30\n",
    "\n",
    "# Задаем начальное приближение\n",
    "x_init = -5\n",
    "\n",
    "root = sp.nsolve(f, x, x_init)\n",
    "\n",
    "print(root)"
   ]
  },
  {
   "cell_type": "code",
   "execution_count": null,
   "id": "6527f15f",
   "metadata": {},
   "outputs": [],
   "source": [
    "построение графика"
   ]
  },
  {
   "cell_type": "code",
   "execution_count": 17,
   "id": "4c91f6d7",
   "metadata": {},
   "outputs": [
    {
     "data": {
      "image/png": "[encoded data removed]",
      "text/plain": [
       "<Figure size 640x480 with 1 Axes>"
      ]
     },
     "metadata": {},
     "output_type": "display_data"
    }
   ],
   "source": [
    "import matplotlib.pyplot as plt\n",
    "x=[(-12*x**4*sympy.sin(sympy.cos(x)) - 18*x**3+5*x**2 + 10*x - 30) for x in range (-50,51)]\n",
    "y=[y for y in range (-50,51)]\n",
    "plt.plot(y,x)\n",
    "plt.show()"
   ]
  },
  {
   "cell_type": "code",
   "execution_count": null,
   "id": "55b51532",
   "metadata": {},
   "outputs": [],
   "source": [
    "Вычислить вершину"
   ]
  },
  {
   "cell_type": "code",
   "execution_count": 25,
   "id": "025026a6",
   "metadata": {},
   "outputs": [
    {
     "name": "stdout",
     "output_type": "stream",
     "text": [
      "Вершина функции находится в точке x = -0.3926771883758665, y = -32.293579936456844\n"
     ]
    }
   ],
   "source": [
    "import sympy as sp\n",
    "from scipy.optimize import minimize\n",
    "\n",
    "x = sp.symbols('x')\n",
    "f = -12*x**4*sp.sin(sp.cos(x)) - 18*x**3 + 5*x**2 + 10*x - 30\n",
    "\n",
    "# Создаем лямбда-функцию для передачи в `minimize`\n",
    "f_lambda = sp.lambdify(x, f, \"numpy\")\n",
    "\n",
    "# Используем численные методы для поиска минимума функции\n",
    "result = minimize(f_lambda, 0.0)\n",
    "\n",
    "# Вершина функции\n",
    "vertex_x = result.x[0]\n",
    "vertex_y = f_lambda(vertex_x)\n",
    "\n",
    "print(f\"Вершина функции находится в точке x = {vertex_x}, y = {vertex_y}\")"
   ]
  },
  {
   "cell_type": "code",
   "execution_count": 26,
   "id": "408fc2a0",
   "metadata": {},
   "outputs": [
    {
     "name": "stdout",
     "output_type": "stream",
     "text": [
      "Вершина функции находится в точке x = 13.012344838166229, y = -308672.33759943105\n"
     ]
    }
   ],
   "source": [
    "import sympy as sp\n",
    "from scipy.optimize import minimize\n",
    "\n",
    "x = sp.symbols('x')\n",
    "f = -12*x**4*sp.sin(sp.cos(x)) - 18*x**3 + 5*x**2 + 10*x - 30\n",
    "\n",
    "# Создаем лямбда-функцию для передачи в `minimize`\n",
    "f_lambda = sp.lambdify(x, f, \"numpy\")\n",
    "\n",
    "# Используем численные методы для поиска минимума функции\n",
    "result = minimize(f_lambda, 10.0)\n",
    "\n",
    "# Вершина функции\n",
    "vertex_x = result.x[0]\n",
    "vertex_y = f_lambda(vertex_x)\n",
    "\n",
    "print(f\"Вершина функции находится в точке x = {vertex_x}, y = {vertex_y}\")"
   ]
  },
  {
   "cell_type": "code",
   "execution_count": 27,
   "id": "a8570fc5",
   "metadata": {},
   "outputs": [
    {
     "name": "stdout",
     "output_type": "stream",
     "text": [
      "Вершина функции находится в точке x = -6.831370038173718, y = -13820.534926472736\n"
     ]
    }
   ],
   "source": [
    "import sympy as sp\n",
    "from scipy.optimize import minimize\n",
    "\n",
    "x = sp.symbols('x')\n",
    "f = -12*x**4*sp.sin(sp.cos(x)) - 18*x**3 + 5*x**2 + 10*x - 30\n",
    "\n",
    "# Создаем лямбда-функцию для передачи в `minimize`\n",
    "f_lambda = sp.lambdify(x, f, \"numpy\")\n",
    "\n",
    "# Используем численные методы для поиска минимума функции\n",
    "result = minimize(f_lambda, -5.0)\n",
    "\n",
    "# Вершина функции\n",
    "vertex_x = result.x[0]\n",
    "vertex_y = f_lambda(vertex_x)\n",
    "\n",
    "print(f\"Вершина функции находится в точке x = {vertex_x}, y = {vertex_y}\")"
   ]
  },
  {
   "cell_type": "code",
   "execution_count": 29,
   "id": "8b5d9496",
   "metadata": {},
   "outputs": [
    {
     "name": "stdout",
     "output_type": "stream",
     "text": [
      "f(x) > 0 on the interval (-10.0, -7.651765176517651)\n",
      "f(x) < 0 on the interval (-7.64976497649765, -5.027502750275027)\n",
      "f(x) > 0 on the interval (-5.025502550255026, -1.3391339133913398)\n",
      "f(x) < 0 on the interval (-1.3371337133713368, 2.271227122712272)\n",
      "f(x) > 0 on the interval (2.2732273227322732, 4.383438343834383)\n",
      "f(x) < 0 on the interval (4.385438543854386, 8.033803380338036)\n",
      "f(x) > 0 on the interval (8.035803580358035, 10.0)\n"
     ]
    }
   ],
   "source": [
    "import numpy as np\n",
    "import matplotlib.pyplot as plt\n",
    "\n",
    "# Определение функции\n",
    "def f(x):\n",
    "    return -12*x**4*np.sin(np.cos(x)) - 18*x**3 + 5*x**2 + 10*x - 30\n",
    "\n",
    "# Генерация равномерно распределенных точек на интервале от -10 до 10\n",
    "x_values = np.linspace(-10, 10, 10000)\n",
    "\n",
    "# Вычисление значений функции в этих точках\n",
    "f_values = f(x_values)\n",
    "\n",
    "# Знаки значений функции\n",
    "signs = np.sign(f_values)\n",
    "\n",
    "# Определение границ интервалов, где функция больше или меньше нуля\n",
    "intervals = []\n",
    "start = x_values[0]\n",
    "for i in range(1, len(x_values)):\n",
    "    if signs[i] != signs[i-1]:\n",
    "        intervals.append((start, x_values[i-1]))\n",
    "        start = x_values[i]\n",
    "intervals.append((start, x_values[-1]))\n",
    "\n",
    "# Вывод интервалов, где функция больше или меньше нуля\n",
    "for interval in intervals:\n",
    "    if f((interval[0] + interval[1]) / 2) > 0:\n",
    "        print(f\"f(x) > 0 on the interval {interval}\")\n",
    "    else:\n",
    "        print(f\"f(x) < 0 on the interval {interval}\")"
   ]
  },
  {
   "cell_type": "code",
   "execution_count": null,
   "id": "003ae743",
   "metadata": {},
   "outputs": [],
   "source": []
  }
 ],
 "metadata": {
  "kernelspec": {
   "display_name": "Python 3 (ipykernel)",
   "language": "python",
   "name": "python3"
  },
  "language_info": {
   "codemirror_mode": {
    "name": "ipython",
    "version": 3
   },
   "file_extension": ".py",
   "mimetype": "text/x-python",
   "name": "python",
   "nbconvert_exporter": "python",
   "pygments_lexer": "ipython3",
   "version": "3.9.6"
  }
 },
 "nbformat": 4,
 "nbformat_minor": 5
}
